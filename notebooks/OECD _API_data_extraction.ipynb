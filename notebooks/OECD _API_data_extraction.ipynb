{
 "cells": [
  {
   "cell_type": "code",
   "execution_count": 71,
   "id": "cd217615-76c1-4cb8-a07a-171d3bf72ccc",
   "metadata": {},
   "outputs": [
    {
     "name": "stdout",
     "output_type": "stream",
     "text": [
      "Data retrieved successfully!\n"
     ]
    }
   ],
   "source": [
    "import requests\n",
    "import xml.etree.ElementTree as ET # Library for parsing the XML data we get from the OECD API\n",
    "import pandas as pd\n",
    "\n",
    "\n",
    "# API URL with filters (countries selected)\n",
    "url = \"https://sdmx.oecd.org/public/rest/data/OECD.ELS.SAE,DSD_EARNINGS@GENDER_WAGE_GAP,1.0/NOR+NZL+BRA+COL+JPN+GRC+DEU+FRA+USA......_T?startPeriod=2005&endPeriod=2023&dimensionAtObservation=AllDimensions\"\n",
    "\n",
    "# Make the API request\n",
    "response = requests.get(url)\n",
    "\n",
    "# Check if the request was successful\n",
    "if response.status_code == 200:\n",
    "    print(\"Data retrieved successfully!\")\n",
    "else:\n",
    "    print(f\"Failed to retrieve data. Status code: {response.status_code}\")"
   ]
  },
  {
   "cell_type": "code",
   "execution_count": 73,
   "id": "324c0240-46ed-44b1-a54c-e263af876775",
   "metadata": {},
   "outputs": [],
   "source": [
    "# Parse the XML content\n",
    "root = ET.fromstring(response.content)\n",
    "\n",
    "# Define the namespace to use with XML parsing\n",
    "ns = {\n",
    "    'generic': 'http://www.sdmx.org/resources/sdmxml/schemas/v2_1/data/generic',\n",
    "    'message': 'http://www.sdmx.org/resources/sdmxml/schemas/v2_1/message'\n",
    "}"
   ]
  },
  {
   "cell_type": "code",
   "execution_count": 77,
   "id": "3f3c92e5-fb5b-4181-92a4-c40125bd5372",
   "metadata": {},
   "outputs": [],
   "source": [
    "# Find the DataSet element\n",
    "# The DataSet element contains the actual data we need. We’ll find it using the appropriate namespace.\n",
    "dataset = root.find('.//message:DataSet', ns)"
   ]
  },
  {
   "cell_type": "code",
   "execution_count": 79,
   "id": "79931ebb-1f40-4c04-9242-42a45580b071",
   "metadata": {},
   "outputs": [
    {
     "name": "stdout",
     "output_type": "stream",
     "text": [
      "ObsValue not found for an observation.\n",
      "ObsValue not found for an observation.\n",
      "ObsValue not found for an observation.\n",
      "ObsValue not found for an observation.\n",
      "ObsValue not found for an observation.\n",
      "ObsValue not found for an observation.\n",
      "ObsValue not found for an observation.\n",
      "ObsValue not found for an observation.\n",
      "ObsValue not found for an observation.\n",
      "ObsValue not found for an observation.\n",
      "ObsValue not found for an observation.\n",
      "ObsValue not found for an observation.\n"
     ]
    }
   ],
   "source": [
    "# List to hold the extracted data\n",
    "data = []\n",
    "\n",
    "# Iterate over each Obs element in the DataSet\n",
    "for obs in dataset.findall('generic:Obs', ns):\n",
    "    obs_data = {}\n",
    "\n",
    "    # Extract TIME_PERIOD, REF_AREA, GENDER from the ObsKey\n",
    "    for value in obs.find('generic:ObsKey', ns):\n",
    "        obs_data[value.attrib['id']] = value.attrib['value']\n",
    "\n",
    "    # Extract the observation value\n",
    "    obs_value = obs.find('generic:ObsValue', ns)\n",
    "    if obs_value is not None:\n",
    "        obs_data['OBS_VALUE'] = obs_value.attrib['value']\n",
    "    else:\n",
    "        print(\"ObsValue not found for an observation.\")\n",
    "        continue\n",
    "\n",
    "    # Append the data\n",
    "    data.append(obs_data)"
   ]
  },
  {
   "cell_type": "code",
   "execution_count": 83,
   "id": "94700306-fd30-4c7f-b0e7-c12b9f074d6c",
   "metadata": {},
   "outputs": [
    {
     "name": "stdout",
     "output_type": "stream",
     "text": [
      "Number of records extracted: 401\n",
      "Sample data: [{'TIME_PERIOD': '2013', 'REF_AREA': 'NZL', 'MEASURE': 'GWP', 'UNIT_MEASURE': 'PT_WG_SAL_M_D', 'PAY_PERIOD': '_Z', 'PRICE_BASE': '_Z', 'AGGREGATION_OPERATION': 'D1', 'SEX': '_T', 'OBS_VALUE': '2.4064171123'}, {'TIME_PERIOD': '2015', 'REF_AREA': 'COL', 'MEASURE': 'GWP', 'UNIT_MEASURE': 'PT_WG_SAL_M_D', 'PAY_PERIOD': '_Z', 'PRICE_BASE': '_Z', 'AGGREGATION_OPERATION': 'MEDIAN', 'SEX': '_T', 'OBS_VALUE': '14.245359161'}, {'TIME_PERIOD': '2013', 'REF_AREA': 'NOR', 'MEASURE': 'GWP', 'UNIT_MEASURE': 'PT_WG_SAL_M_D', 'PAY_PERIOD': '_Z', 'PRICE_BASE': '_Z', 'AGGREGATION_OPERATION': 'D1', 'SEX': '_T', 'OBS_VALUE': '3.4420289855'}, {'TIME_PERIOD': '2006', 'REF_AREA': 'NOR', 'MEASURE': 'GWP', 'UNIT_MEASURE': 'PT_WG_SAL_M_D', 'PAY_PERIOD': '_Z', 'PRICE_BASE': '_Z', 'AGGREGATION_OPERATION': 'D9', 'SEX': '_T', 'OBS_VALUE': '22.122265385'}, {'TIME_PERIOD': '2007', 'REF_AREA': 'NOR', 'MEASURE': 'GWP', 'UNIT_MEASURE': 'PT_WG_SAL_M_D', 'PAY_PERIOD': '_Z', 'PRICE_BASE': '_Z', 'AGGREGATION_OPERATION': 'D9', 'SEX': '_T', 'OBS_VALUE': '21.947004608'}]\n"
     ]
    },
    {
     "data": {
      "text/html": [
       "<div>\n",
       "<style scoped>\n",
       "    .dataframe tbody tr th:only-of-type {\n",
       "        vertical-align: middle;\n",
       "    }\n",
       "\n",
       "    .dataframe tbody tr th {\n",
       "        vertical-align: top;\n",
       "    }\n",
       "\n",
       "    .dataframe thead th {\n",
       "        text-align: right;\n",
       "    }\n",
       "</style>\n",
       "<table border=\"1\" class=\"dataframe\">\n",
       "  <thead>\n",
       "    <tr style=\"text-align: right;\">\n",
       "      <th></th>\n",
       "      <th>TIME_PERIOD</th>\n",
       "      <th>REF_AREA</th>\n",
       "      <th>MEASURE</th>\n",
       "      <th>UNIT_MEASURE</th>\n",
       "      <th>PAY_PERIOD</th>\n",
       "      <th>PRICE_BASE</th>\n",
       "      <th>AGGREGATION_OPERATION</th>\n",
       "      <th>SEX</th>\n",
       "      <th>OBS_VALUE</th>\n",
       "    </tr>\n",
       "  </thead>\n",
       "  <tbody>\n",
       "    <tr>\n",
       "      <th>0</th>\n",
       "      <td>2013</td>\n",
       "      <td>NZL</td>\n",
       "      <td>GWP</td>\n",
       "      <td>PT_WG_SAL_M_D</td>\n",
       "      <td>_Z</td>\n",
       "      <td>_Z</td>\n",
       "      <td>D1</td>\n",
       "      <td>_T</td>\n",
       "      <td>2.4064171123</td>\n",
       "    </tr>\n",
       "    <tr>\n",
       "      <th>1</th>\n",
       "      <td>2015</td>\n",
       "      <td>COL</td>\n",
       "      <td>GWP</td>\n",
       "      <td>PT_WG_SAL_M_D</td>\n",
       "      <td>_Z</td>\n",
       "      <td>_Z</td>\n",
       "      <td>MEDIAN</td>\n",
       "      <td>_T</td>\n",
       "      <td>14.245359161</td>\n",
       "    </tr>\n",
       "    <tr>\n",
       "      <th>2</th>\n",
       "      <td>2013</td>\n",
       "      <td>NOR</td>\n",
       "      <td>GWP</td>\n",
       "      <td>PT_WG_SAL_M_D</td>\n",
       "      <td>_Z</td>\n",
       "      <td>_Z</td>\n",
       "      <td>D1</td>\n",
       "      <td>_T</td>\n",
       "      <td>3.4420289855</td>\n",
       "    </tr>\n",
       "    <tr>\n",
       "      <th>3</th>\n",
       "      <td>2006</td>\n",
       "      <td>NOR</td>\n",
       "      <td>GWP</td>\n",
       "      <td>PT_WG_SAL_M_D</td>\n",
       "      <td>_Z</td>\n",
       "      <td>_Z</td>\n",
       "      <td>D9</td>\n",
       "      <td>_T</td>\n",
       "      <td>22.122265385</td>\n",
       "    </tr>\n",
       "    <tr>\n",
       "      <th>4</th>\n",
       "      <td>2007</td>\n",
       "      <td>NOR</td>\n",
       "      <td>GWP</td>\n",
       "      <td>PT_WG_SAL_M_D</td>\n",
       "      <td>_Z</td>\n",
       "      <td>_Z</td>\n",
       "      <td>D9</td>\n",
       "      <td>_T</td>\n",
       "      <td>21.947004608</td>\n",
       "    </tr>\n",
       "  </tbody>\n",
       "</table>\n",
       "</div>"
      ],
      "text/plain": [
       "  TIME_PERIOD REF_AREA MEASURE   UNIT_MEASURE PAY_PERIOD PRICE_BASE  \\\n",
       "0        2013      NZL     GWP  PT_WG_SAL_M_D         _Z         _Z   \n",
       "1        2015      COL     GWP  PT_WG_SAL_M_D         _Z         _Z   \n",
       "2        2013      NOR     GWP  PT_WG_SAL_M_D         _Z         _Z   \n",
       "3        2006      NOR     GWP  PT_WG_SAL_M_D         _Z         _Z   \n",
       "4        2007      NOR     GWP  PT_WG_SAL_M_D         _Z         _Z   \n",
       "\n",
       "  AGGREGATION_OPERATION SEX     OBS_VALUE  \n",
       "0                    D1  _T  2.4064171123  \n",
       "1                MEDIAN  _T  14.245359161  \n",
       "2                    D1  _T  3.4420289855  \n",
       "3                    D9  _T  22.122265385  \n",
       "4                    D9  _T  21.947004608  "
      ]
     },
     "metadata": {},
     "output_type": "display_data"
    }
   ],
   "source": [
    "# Check if data is being extracted\n",
    "print(f\"Number of records extracted: {len(data)}\")\n",
    "if len(data) > 0:\n",
    "    print(\"Sample data:\", data[:5])\n",
    "\n",
    "    # Convert the list of dictionaries into a pandas DataFrame\n",
    "    df = pd.DataFrame(data)\n",
    "\n",
    "    # Display the first few rows of the DataFrame to check the data\n",
    "    display(df.head())\n",
    "else:\n",
    "    print(\"No data extracted to save.\")"
   ]
  },
  {
   "cell_type": "code",
   "execution_count": 85,
   "id": "247f17c8-e299-42ca-b44d-89531ab7b86f",
   "metadata": {},
   "outputs": [
    {
     "name": "stdout",
     "output_type": "stream",
     "text": [
      "Data saved to 'gender_wage_gap_data.csv'\n"
     ]
    }
   ],
   "source": [
    "# Save the DataFrame to a CSV file\n",
    "df.to_csv('gender_wage_gap_data.csv', index=False)\n",
    "\n",
    "# Confirmation message\n",
    "print(\"Data saved to 'gender_wage_gap_data.csv'\")"
   ]
  }
 ],
 "metadata": {
  "kernelspec": {
   "display_name": "venv",
   "language": "python",
   "name": "venv"
  },
  "language_info": {
   "codemirror_mode": {
    "name": "ipython",
    "version": 3
   },
   "file_extension": ".py",
   "mimetype": "text/x-python",
   "name": "python",
   "nbconvert_exporter": "python",
   "pygments_lexer": "ipython3",
   "version": "3.12.4"
  }
 },
 "nbformat": 4,
 "nbformat_minor": 5
}
