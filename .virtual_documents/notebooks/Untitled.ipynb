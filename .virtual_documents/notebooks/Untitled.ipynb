import pandas as pd
import matplotlib.pyplot as plt

# Load the data
gender_wage_gap_df = pd.read_csv('/Users/angela.garay/Ironhack/Week-3/Project/data/raw/gender_wage_gap_data.csv')

gender_wage_gap_df.head(5)


gender_wage_gap_df['REF_AREA'].unique()

# merged_gdeco_HDI_unpaiddomwork_df['GDP_per_capita']={'Norway':36.5,'Greece':11.07,'France':18.7,'Germany':21.25,'United States':30.58,'Brazil':3.03,'Colombia':3.05,'Japan':17.19,'New Zealand':26.29,'Pakistan':0.35,'Ghana':0.63,'Cameroon':0.45}






# Filter the data for each country
country = 'FRA'
new_zealand_df = gender_wage_gap_df[gender_wage_gap_df['REF_AREA'] == country]
new_zealand_df.head(5)

# Pivot the DataFrame to have TIME_PERIOD as the index and SEX as columns
new_zealand_pivot = new_zealand_df.pivot(index='AGGREGATION_OPERATION', columns='TIME_PERIOD', values='OBS_VALUE')
display(new_zealand_pivot)


# Plot each 'AGGREGATION_OPERATION'(D1, MEDIAN, D9) over the years:
plt.plot(new_zealand_pivot.columns, new_zealand_pivot.loc['D1'], marker='o', color='red', label='(D1) Decile 1')
plt.plot(new_zealand_pivot.columns, new_zealand_pivot.loc['MEDIAN'], marker='o', color='blue', label='(MEDIAN) Median')
plt.plot(new_zealand_pivot.columns, new_zealand_pivot.loc['D9'], marker='o', color='purple', label='(D9) Decile 9')


# Customize the plot to match the style of the example
plt.title(f'GENDER WAGE GAP: {country}', fontsize=16)
plt.xlabel('Year', fontsize=14)
plt.ylabel('Percentage', fontsize=14)
plt.grid(True)

# Position the labels in the top-right corner
plt.legend(loc='center left', bbox_to_anchor=(1, 0.5))

# Show the plot
plt.show()



