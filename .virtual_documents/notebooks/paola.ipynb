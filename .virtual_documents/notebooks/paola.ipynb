





# OECD API data extraction for the dataset: gender wage-gap

import requests
import xml.etree.ElementTree as ET # Library for parsing the XML data we get from the OECD API
import pandas as pd

# API URL with filters applied (countries selected)
url = "https://sdmx.oecd.org/public/rest/data/OECD.ELS.SAE,DSD_EARNINGS@GENDER_WAGE_GAP,1.0/NOR+NZL+BRA+COL+JPN+GRC+DEU+FRA+USA......_T?startPeriod=2005&endPeriod=2023&dimensionAtObservation=AllDimensions"

# Make the API request
response = requests.get(url)

# Check if the request was successful
if response.status_code == 200:
    print("Data retrieved successfully!")
else:
    print(f"Failed to retrieve data. Status code: {response.status_code}")


# Parse the XML content
root = ET.fromstring(response.content)

# Define the namespace to use with XML parsing
ns = {
    'generic': 'http://www.sdmx.org/resources/sdmxml/schemas/v2_1/data/generic',
    'message': 'http://www.sdmx.org/resources/sdmxml/schemas/v2_1/message'
}


# Find the DataSet element
# The DataSet element contains the actual data we need. We’ll find it using the appropriate namespace.
dataset = root.find('.//message:DataSet', ns)


# List to hold the extracted data
data = []

# Iterate over each Obs element in the DataSet
for obs in dataset.findall('generic:Obs', ns):
    obs_data = {}

    # Extract TIME_PERIOD, REF_AREA, GENDER from the ObsKey
    for value in obs.find('generic:ObsKey', ns):
        obs_data[value.attrib['id']] = value.attrib['value']

    # Extract the observation value
    obs_value = obs.find('generic:ObsValue', ns)
    if obs_value is not None:
        obs_data['OBS_VALUE'] = obs_value.attrib['value']
    else:
        print("ObsValue not found for an observation.")
        continue

    # Append the data
    data.append(obs_data)


# Check if data is being extracted
print(f"Number of records extracted: {len(data)}")
if len(data) > 0:
    print("Sample data:", data[:5])

    # Convert the list of dictionaries into a pandas DataFrame
    df = pd.DataFrame(data)

    # Display the first few rows of the DataFrame to check the data
    display(df.head())
else:
    print("No data extracted to save.")


# Save the DataFrame to a CSV file in the specified folder
df.to_csv('/Users/angela.garay/Ironhack/Week-3/Project/data/raw/gender_wage_gap_data.csv', index=False)

# Confirmation message
print("Data saved to '/Users/angela.garay/Ironhack/Week-3/Project/data/raw/gender_wage_gap_data.csv'")





import matplotlib.pyplot as plt

# Load the data from the folder
gender_wage_gap_df = pd.read_csv('/Users/angela.garay/Ironhack/Week-3/Project/data/raw/gender_wage_gap_data.csv')

gender_wage_gap_df.head(5)


# Filter the data for each country
country = 'FRA' # Here you can select the country you want to check

country_selected_df = gender_wage_gap_df[gender_wage_gap_df['REF_AREA'] == country]
country_selected_df.head(5)

# Pivot the DataFrame to have aggregation operation as the index and years as columns
country_selected_pivot = country_selected_df.pivot(
    index='AGGREGATION_OPERATION', 
    columns='TIME_PERIOD', 
    values='OBS_VALUE'
)
display(country_selected_pivot)


# Plot each 'AGGREGATION_OPERATION'(D1, MEDIAN, D9) over the years:

plt.plot(country_selected_pivot.columns, country_selected_pivot.loc['D1'], marker='o', color='red', label='(D1) Decile 1')
plt.plot(country_selected_pivot.columns, country_selected_pivot.loc['MEDIAN'], marker='o', color='blue', label='(MEDIAN) Median')
plt.plot(country_selected_pivot.columns, country_selected_pivot.loc['D9'], marker='o', color='purple', label='(D9) Decile 9')


# Customize the plot to match the style of the example
plt.title(f'GENDER WAGE GAP: {country}', fontsize=16)
plt.xlabel('Year', fontsize=14)
plt.ylabel('Percentage', fontsize=14)
plt.grid(True)

# Position the labels in the top-right corner
plt.legend(loc='center left', bbox_to_anchor=(1, 0.5))

# Show the plot
plt.show()





gender_wage_gap_df['REF_AREA'].unique()


gender_wage_gap_df['AGGREGATION_OPERATION'].unique()


# Cleaning the dataframe:
gender_wage_gap_df = gender_wage_gap_df.drop(columns=['UNIT_MEASURE', 'PAY_PERIOD', 'PRICE_BASE', 'SEX'])


gender_wage_gap_df.head()


# Create dataframe for the 2021 GDP data

# Mapping from country names to ISO 3-letter country codes
country_mapping = {
    'Norway': 'NOR',
    'Greece': 'GRC',
    'France': 'FRA',
    'Germany': 'DEU',
    'United States': 'USA',
    'Brazil': 'BRA',
    'Colombia': 'COL',
    'Japan': 'JPN',
    'New Zealand': 'NZL',
    'Pakistan': 'PAK',
    'Ghana': 'GHA',
    'Cameroon': 'CMR'
}

# GDP per capita data for 2021
gdp_per_capita_2021 = {
    'Country': ['NOR', 'GRC', 'FRA', 'DEU', 'USA', 'BRA', 'COL', 'JPN', 'NZL'],
    'GDP_per_Capita_2021': [36.5, 11.07, 18.7, 21.25, 30.58, 3.03, 3.05, 17.19, 26.29]
}

# Create the DataFrame
gdp_2021_df = pd.DataFrame(gdp_per_capita_2021)

display(gdp_2021_df)


# Filter gender_wage_gap_df for the year 2021 and selected countries

countries_of_interest = ['NOR', 'GRC', 'FRA', 'DEU', 'USA', 'BRA', 'COL', 'JPN', 'NZL']

wage_gap_2021 = gender_wage_gap_df[
    (gender_wage_gap_df['TIME_PERIOD'] == 2021) & 
    (gender_wage_gap_df['REF_AREA'].isin(countries_of_interest))
]

# Display the filtered DataFrame to check
display(wage_gap_2021.head())


# Pivot the dataframe to have AGGREGATION_OPERATION as columns
wage_gap_pivot_2021 = wage_gap_2021.pivot(
    index='REF_AREA', 
    columns='AGGREGATION_OPERATION', 
    values='OBS_VALUE'
)

# Display the pivoted DataFrame to ensure it's correct
display(wage_gap_pivot_2021.head())


# Merge the pivoted DataFrame with the GDP DataFrame
merged_2021_df = pd.merge(wage_gap_pivot_2021, gdp_2021_df, left_on='REF_AREA', right_on='Country')

# Display the merged DataFrame to ensure it's correct
display(merged_2021_df.head())


# Calculate correlations
correlation_d1 = merged_2021_df['D1'].corr(merged_2021_df['GDP_per_Capita_2021'])
correlation_d9 = merged_2021_df['D9'].corr(merged_2021_df['GDP_per_Capita_2021'])
correlation_median = merged_2021_df['MEDIAN'].corr(merged_2021_df['GDP_per_Capita_2021'])

# Print the correlation results
print(f"Correlation between D1 and GDP per Capita: {correlation_d1}")
print(f"Correlation between D9 and GDP per Capita: {correlation_d9}")
print(f"Correlation between Median and GDP per Capita: {correlation_median}")



